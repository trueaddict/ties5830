{
 "cells": [
  {
   "cell_type": "code",
   "execution_count": 2,
   "metadata": {},
   "outputs": [
    {
     "name": "stdout",
     "output_type": "stream",
     "text": [
      "length of variables 4\n"
     ]
    }
   ],
   "source": [
    "import numpy as np\n",
    "import matplotlib.pyplot as plt\n",
    "\n",
    "from desdeo_problem import ScalarObjective, MOProblem, variable_builder\n",
    "\n",
    "from smt.sampling_methods import LHS\n",
    "\n",
    "var_names = ['a', 'b', 'c', 'd']\n",
    "initial_values = [1,1,1,1] # ?\n",
    "lower_bounds =  np.array([0.125, 0.1, 0.1, 0.125])\n",
    "upper_bounds = np.array([5.0, 10.0, 10.0, 5.0])\n",
    "variables = variable_builder(var_names, initial_values, lower_bounds, upper_bounds)\n",
    "\n",
    "print('length of variables', len(variables))\n",
    "\n",
    "def f_1(x):\n",
    "    return 1.10471 * x[0] ** 2 * x[1] + 0.04811 * x[2] * x[3] * (14.0 + x[1])\n",
    "\n",
    "def f_2(x):\n",
    "    return 2.1952 / (x[3] * x[2] ** 3)\n",
    "\n",
    "\n",
    "obj1 = ScalarObjective('f_1', f_1)\n",
    "obj2 = ScalarObjective('f_2', f_2)\n",
    "\n",
    "\n",
    "problem = MOProblem(objectives=[obj1, obj2], variables=variables)\n"
   ]
  },
  {
   "cell_type": "code",
   "execution_count": 3,
   "metadata": {},
   "outputs": [
    {
     "name": "stdout",
     "output_type": "stream",
     "text": [
      "0.10287500000000001\n",
      "0.10287500000000001\n",
      "(100, 4)\n"
     ]
    }
   ],
   "source": [
    "xlimits = np.array([lower_bounds, upper_bounds, lower_bounds, upper_bounds])\n",
    "sampling = LHS(xlimits=xlimits)\n",
    "\n",
    "num = 100\n",
    "x = sampling(num)\n",
    "\n",
    "print(x[0,0])\n",
    "\n",
    "# x = x / np.linalg.norm(x)\n",
    "\n",
    "print(x[0,0])\n",
    "print(x.shape)"
   ]
  },
  {
   "cell_type": "code",
   "execution_count": 4,
   "metadata": {},
   "outputs": [
    {
     "name": "stdout",
     "output_type": "stream",
     "text": [
      "[  0.6862969  271.06650725]\n"
     ]
    }
   ],
   "source": [
    "y = []\n",
    "\n",
    "for xi in x:\n",
    "    y.append([f_1(xi), f_2(xi)])\n",
    "    \n",
    "y = np.array(y)\n",
    "\n",
    "\n",
    "\n",
    "print(y[0])"
   ]
  },
  {
   "cell_type": "code",
   "execution_count": 21,
   "metadata": {},
   "outputs": [
    {
     "name": "stdout",
     "output_type": "stream",
     "text": [
      "Kriging R-squared 0.14418563368249793\n",
      "Kriging RMSE 28.785903336917848\n"
     ]
    }
   ],
   "source": [
    "# import GPy\n",
    "\n",
    "# kernel = GPy.kern.RBF(input_dim=4)\n",
    "\n",
    "# gpy_model_y_1 = GPy.models.GPRegression(x, y, kernel)\n",
    "# #gpy_model_y_2 = GPy.models.GPRegression(x, y[:,1], kernel) # Throws error ?\n",
    "\n",
    "# print(gpy_model_y_1)\n",
    "\n",
    "from sklearn.gaussian_process import GaussianProcessRegressor\n",
    "from sklearn.gaussian_process.kernels import DotProduct, WhiteKernel\n",
    "from sklearn.metrics import r2_score, mean_squared_error\n",
    "\n",
    "\n",
    "kernel = DotProduct() + WhiteKernel()\n",
    "\n",
    "gpr = GaussianProcessRegressor(kernel=kernel, random_state=0).fit(x, y)\n",
    "\n",
    "gpr.score(x, y)\n",
    "\n",
    "gpr_predict = gpr.predict(x, return_std=True)\n",
    "\n",
    "gpr_r_2 = r2_score(y_true=y, y_pred=gpr_predict[0])\n",
    "print('Kriging R-squared', gpr_r_2)\n",
    "\n",
    "\n",
    "gpr_rmse = mean_squared_error(y_true=y, y_pred=gpr_predict[0], squared=False)\n",
    "print('Kriging RMSE', gpr_rmse)"
   ]
  },
  {
   "cell_type": "code",
   "execution_count": 25,
   "metadata": {},
   "outputs": [
    {
     "name": "stdout",
     "output_type": "stream",
     "text": [
      "(100, 2)\n",
      "Random forest R-squared 0.7744654923210998\n",
      "Random forest RMSE 10.81454249244477\n"
     ]
    }
   ],
   "source": [
    "from sklearn.ensemble import RandomForestRegressor\n",
    "from sklearn.metrics import r2_score, mean_squared_error\n",
    "\n",
    "forest = RandomForestRegressor(max_depth=2, random_state=0)\n",
    "forest.fit(x, y)\n",
    "\n",
    "forest_predict = forest.predict(x)\n",
    "\n",
    "print(forest_predict.shape)\n",
    "\n",
    "forest_r_2 = r2_score(y_true=y, y_pred=forest_predict)\n",
    "print('Random forest R-squared', forest_r_2)\n",
    "\n",
    "\n",
    "forest_rmse = mean_squared_error(y_true=y, y_pred=forest_predict, squared=False)\n",
    "print('Random forest RMSE', forest_rmse)"
   ]
  },
  {
   "cell_type": "code",
   "execution_count": 43,
   "metadata": {},
   "outputs": [
    {
     "name": "stdout",
     "output_type": "stream",
     "text": [
      "(50, 2)\n",
      "Kriging R-squared -29721.54781786479\n",
      "Kriging RMSE 58.81285041241952\n"
     ]
    }
   ],
   "source": [
    "# TEST\n",
    "\n",
    "num_test = 50\n",
    "x_test = sampling(num_test)\n",
    "\n",
    "y_test = gpr.sample_y(x_test)\n",
    "\n",
    "print(y_test[:,:,0].shape)\n",
    "\n",
    "gpr_r_2 = r2_score(y_true=y[:50], y_pred=y_test[:,:,0])\n",
    "print('Test - Kriging R-squared', gpr_r_2)\n",
    "\n",
    "\n",
    "gpr_rmse = mean_squared_error(y_true=y[:50], y_pred=y_test[:,:,0], squared=False)\n",
    "print('Test - Kriging RMSE', gpr_rmse)"
   ]
  }
 ],
 "metadata": {
  "interpreter": {
   "hash": "aee8b7b246df8f9039afb4144a1f6fd8d2ca17a180786b69acc140d282b71a49"
  },
  "kernelspec": {
   "display_name": "Python 3.9.8 64-bit",
   "language": "python",
   "name": "python3"
  },
  "language_info": {
   "codemirror_mode": {
    "name": "ipython",
    "version": 3
   },
   "file_extension": ".py",
   "mimetype": "text/x-python",
   "name": "python",
   "nbconvert_exporter": "python",
   "pygments_lexer": "ipython3",
   "version": "3.9.8"
  },
  "orig_nbformat": 4
 },
 "nbformat": 4,
 "nbformat_minor": 2
}

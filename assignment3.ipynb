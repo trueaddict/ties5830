{
 "cells": [
  {
   "cell_type": "code",
   "execution_count": 1,
   "metadata": {},
   "outputs": [],
   "source": [
    "import numpy as np\n",
    "\n",
    "# ACKLEY\n",
    "def objective(x, y):\n",
    " return -20.0 * np.exp(-0.2 * np.sqrt(0.5 * (x**2 + y**2)))-np.exp(0.5 * (np.cos(2 * \n",
    "  np.pi * x)+np.cos(2 * np.pi * y))) + np.e + 20\n",
    "\n",
    "r_min = -32.768\n",
    "r_max = 32.768\n",
    "xaxis = np.arange(r_min, r_max, 2.0)\n",
    "yaxis = np.arange(r_min, r_max, 2.0)\n",
    "x, y = np.meshgrid(xaxis, yaxis)"
   ]
  },
  {
   "cell_type": "code",
   "execution_count": 2,
   "metadata": {},
   "outputs": [
    {
     "name": "stdout",
     "output_type": "stream",
     "text": [
      "GA F: [ 2.43275554e-06 -9.39405546e-07]\n",
      "GA X: [7.37624092e-06]\n"
     ]
    }
   ],
   "source": [
    "# 1.\n",
    "\n",
    "from pymoo.algorithms.soo.nonconvex.ga import GA\n",
    "from pymoo.optimize import minimize\n",
    "from pymoo.factory import get_problem\n",
    "\n",
    "problem = get_problem('ackley')\n",
    "\n",
    "algorithm = GA(pop_size=50, eliminate_duplicates=True)\n",
    "\n",
    "res = minimize(problem, algorithm, seed=1, verbose=False)\n",
    "\n",
    "print('GA F:', res.X)\n",
    "print('GA X:', res.F)\n"
   ]
  },
  {
   "cell_type": "code",
   "execution_count": 3,
   "metadata": {},
   "outputs": [],
   "source": [
    "# 2\n",
    "from desdeo_problem.testproblems.TestProblems import test_problem_builder\n",
    "\n",
    "DTLZ2 = test_problem_builder('DTLZ2', n_of_objectives=2, n_of_variables=10)\n",
    "\n",
    "\n",
    "DTLZ5 = test_problem_builder('DTLZ5', n_of_objectives=5, n_of_variables=10)\n",
    "\n",
    "\n",
    "# LCB - Lover confidence bound \n",
    "\n",
    "# ParEGO\n",
    "# https://botorch.org/v/0.3.1/tutorials/multi_objective_bo"
   ]
  }
 ],
 "metadata": {
  "interpreter": {
   "hash": "aee8b7b246df8f9039afb4144a1f6fd8d2ca17a180786b69acc140d282b71a49"
  },
  "kernelspec": {
   "display_name": "Python 3.9.8 64-bit",
   "language": "python",
   "name": "python3"
  },
  "language_info": {
   "codemirror_mode": {
    "name": "ipython",
    "version": 3
   },
   "file_extension": ".py",
   "mimetype": "text/x-python",
   "name": "python",
   "nbconvert_exporter": "python",
   "pygments_lexer": "ipython3",
   "version": "3.9.8"
  },
  "orig_nbformat": 4
 },
 "nbformat": 4,
 "nbformat_minor": 2
}

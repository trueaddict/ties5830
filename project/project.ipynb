{
 "cells": [
  {
   "cell_type": "code",
   "execution_count": null,
   "metadata": {},
   "outputs": [],
   "source": [
    "# Articles\n",
    "# - https://jyx.jyu.fi/handle/123456789/78083"
   ]
  },
  {
   "cell_type": "code",
   "execution_count": null,
   "metadata": {},
   "outputs": [],
   "source": [
    "# Notes\n",
    "\n",
    "# Important paper  => Kania2021_Chapter_InteractiveMultiobjectiveOptim.pdf"
   ]
  },
  {
   "cell_type": "code",
   "execution_count": 30,
   "metadata": {},
   "outputs": [
    {
     "name": "stdout",
     "output_type": "stream",
     "text": [
      "108\n"
     ]
    }
   ],
   "source": [
    "import pandas as pd\n",
    "import numpy as np\n",
    "\n",
    "df = pd.read_excel('Demand_data_case.xlsx')\n",
    "\n",
    "months = list(range(1, 109))\n",
    "print(len(months))\n",
    "df['months'] = months\n",
    "df\n",
    "\n",
    "x1 = np.array(df['Demand (pcs)'])\n",
    "x2 = np.array(df['months'])\n",
    "\n",
    "x = np.array([x1, x2])"
   ]
  },
  {
   "cell_type": "code",
   "execution_count": 35,
   "metadata": {},
   "outputs": [
    {
     "name": "stdout",
     "output_type": "stream",
     "text": [
      "[11 12 10  8 12  9 12  3  5  6  4  9 10  0  0  0  0  4  6 12  9 12  0  6\n",
      " 16 24  8 17  3  2  0  0  2  4 10  7 10  2  5  5 12  0  9  2  0  8  2  3\n",
      " 16  0 12  4  4  2  6  0  0  4  4  4 12 12 18  2  9  4  8  0  3  2  0  4\n",
      "  8  6  0 11  7  4 14  0  0  0  2  3 16  2  8 10  0  6  0  0  0  0  2  0\n",
      "  0  0  0  5 11  5  4  3  0  0  3  5]\n",
      "[  1   2   3   4   5   6   7   8   9  10  11  12  13  14  15  16  17  18\n",
      "  19  20  21  22  23  24  25  26  27  28  29  30  31  32  33  34  35  36\n",
      "  37  38  39  40  41  42  43  44  45  46  47  48  49  50  51  52  53  54\n",
      "  55  56  57  58  59  60  61  62  63  64  65  66  67  68  69  70  71  72\n",
      "  73  74  75  76  77  78  79  80  81  82  83  84  85  86  87  88  89  90\n",
      "  91  92  93  94  95  96  97  98  99 100 101 102 103 104 105 106 107 108]\n",
      "safety stock 7\n",
      "Demand mean / average 5.333333333333333\n",
      "Demand standard deviation 5.084471639398911\n"
     ]
    }
   ],
   "source": [
    "# Objectives\n",
    "\n",
    "def f1(x):\n",
    "    print(x[0])\n",
    "\n",
    "def f2(x):\n",
    "    print(x[1])\n",
    "\n",
    "f1(x)\n",
    "f2(x)\n",
    "\n",
    "R = np.mean(x[0])\n",
    "std_R = np.std(x[0])\n",
    "L = 12 # lead time - 12 months\n",
    "#sL = 0 # lead time standard deviation\n",
    "CSL = 0.9 # cycle service level\n",
    "\n",
    "SS = round((CSL * std_R * L)**0.5)\n",
    "print('safety stock', SS)\n",
    "\n",
    "print('Demand mean / average', R)\n",
    "print('Demand standard deviation', std_R)"
   ]
  }
 ],
 "metadata": {
  "interpreter": {
   "hash": "aee8b7b246df8f9039afb4144a1f6fd8d2ca17a180786b69acc140d282b71a49"
  },
  "kernelspec": {
   "display_name": "Python 3.9.8 64-bit",
   "language": "python",
   "name": "python3"
  },
  "language_info": {
   "codemirror_mode": {
    "name": "ipython",
    "version": 3
   },
   "file_extension": ".py",
   "mimetype": "text/x-python",
   "name": "python",
   "nbconvert_exporter": "python",
   "pygments_lexer": "ipython3",
   "version": "3.9.8"
  },
  "orig_nbformat": 4
 },
 "nbformat": 4,
 "nbformat_minor": 2
}
